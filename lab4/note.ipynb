{
 "cells": [
  {
   "cell_type": "code",
   "execution_count": 5,
   "metadata": {},
   "outputs": [],
   "source": [
    "from ultralytics import YOLO\n",
    "import pandas as pd\n",
    "import json\n",
    "import csv\n",
    "\n",
    "model = YOLO('yolov8n.pt')\n",
    "# train_boxes = pd.read_csv('oidv6-train-annotations-bbox.csv')\n"
   ]
  },
  {
   "cell_type": "code",
   "execution_count": 6,
   "metadata": {},
   "outputs": [],
   "source": [
    "def get_food_labels():\n",
    "    food_label = '/m/02wbm'\n",
    "    with open('bbox_labels_600_hierarchy.json', 'r') as file:\n",
    "        bbox_labels = json.load(file)\n",
    "\n",
    "    def find_all_food(food_dict, add_all=False):\n",
    "        labels = []\n",
    "        if food_dict['LabelName'] == food_label or add_all:\n",
    "            add_all = True\n",
    "            labels.append(food_dict['LabelName'])\n",
    "\n",
    "        if 'Subcategory' in food_dict:\n",
    "            for subcategory in food_dict['Subcategory']:\n",
    "                labels.extend(find_all_food(subcategory, add_all))\n",
    "\n",
    "        return labels\n",
    "\n",
    "    return find_all_food(bbox_labels)\n",
    "\n",
    "food_labels = get_food_labels()\n"
   ]
  },
  {
   "cell_type": "code",
   "execution_count": 7,
   "metadata": {},
   "outputs": [
    {
     "ename": "KeyboardInterrupt",
     "evalue": "",
     "output_type": "error",
     "traceback": [
      "\u001b[0;31m---------------------------------------------------------------------------\u001b[0m",
      "\u001b[0;31mKeyboardInterrupt\u001b[0m                         Traceback (most recent call last)",
      "\u001b[1;32m/home/mjste/Desktop/Semestr_7/mro/lab4/note.ipynb Cell 3\u001b[0m line \u001b[0;36m1\n\u001b[1;32m      <a href='vscode-notebook-cell:/home/mjste/Desktop/Semestr_7/mro/lab4/note.ipynb#W2sZmlsZQ%3D%3D?line=8'>9</a>\u001b[0m y_min \u001b[39m=\u001b[39m record[\u001b[39m6\u001b[39m]\n\u001b[1;32m     <a href='vscode-notebook-cell:/home/mjste/Desktop/Semestr_7/mro/lab4/note.ipynb#W2sZmlsZQ%3D%3D?line=9'>10</a>\u001b[0m y_max \u001b[39m=\u001b[39m record[\u001b[39m7\u001b[39m]\n\u001b[0;32m---> <a href='vscode-notebook-cell:/home/mjste/Desktop/Semestr_7/mro/lab4/note.ipynb#W2sZmlsZQ%3D%3D?line=10'>11</a>\u001b[0m \u001b[39mif\u001b[39;00m label \u001b[39min\u001b[39;00m food_labels:\n\u001b[1;32m     <a href='vscode-notebook-cell:/home/mjste/Desktop/Semestr_7/mro/lab4/note.ipynb#W2sZmlsZQ%3D%3D?line=11'>12</a>\u001b[0m     image_train_dataset\u001b[39m.\u001b[39mappend((image_id, label, x_min, x_max, y_min, y_max))\n",
      "\u001b[0;31mKeyboardInterrupt\u001b[0m: "
     ]
    }
   ],
   "source": [
    "image_train_dataset = []\n",
    "with open('oidv6-train-annotations-bbox.csv', 'r') as f:\n",
    "    reader = csv.reader(f)\n",
    "    for record in reader:\n",
    "        label = record[2]\n",
    "        if label in food_labels:\n",
    "            image_train_dataset.append((record[0], label, record[4], record[5], record[6], record[7]))\n",
    "        # image_id = record[0]\n",
    "        # x_min = record[4]\n",
    "        # x_max = record[5]\n",
    "        # y_min = record[6]\n",
    "        # y_max = record[7]\n",
    "        # if label in food_labels:\n",
    "        #     image_train_dataset.append((image_id, label, x_min, x_max, y_min, y_max))"
   ]
  },
  {
   "cell_type": "code",
   "execution_count": null,
   "metadata": {},
   "outputs": [],
   "source": []
  }
 ],
 "metadata": {
  "kernelspec": {
   "display_name": "mro",
   "language": "python",
   "name": "python3"
  },
  "language_info": {
   "codemirror_mode": {
    "name": "ipython",
    "version": 3
   },
   "file_extension": ".py",
   "mimetype": "text/x-python",
   "name": "python",
   "nbconvert_exporter": "python",
   "pygments_lexer": "ipython3",
   "version": "3.10.13"
  }
 },
 "nbformat": 4,
 "nbformat_minor": 2
}
