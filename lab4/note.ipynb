{
 "cells": [
  {
   "cell_type": "code",
   "execution_count": 86,
   "metadata": {},
   "outputs": [
    {
     "name": "stderr",
     "output_type": "stream",
     "text": [
      "Downloading https://github.com/ultralytics/assets/releases/download/v0.0.0/yolov8n.pt to 'yolov8n.pt'...\n",
      "100%|██████████| 6.23M/6.23M [00:00<00:00, 30.1MB/s]\n"
     ]
    }
   ],
   "source": [
    "from ultralytics import YOLO\n",
    "import pandas as pd\n",
    "import csv\n",
    "import numpy as np\n",
    "import torch\n",
    "from PIL import Image\n",
    "import matplotlib.pyplot as plt\n",
    "import os\n",
    "\n",
    "if torch.cuda.is_available():\n",
    "    device = torch.device(\"cuda\")\n",
    "else:\n",
    "    device = torch.device(\"cpu\")\n",
    "\n",
    "model = YOLO(\"yolov8n.pt\").to(device)"
   ]
  },
  {
   "cell_type": "code",
   "execution_count": null,
   "metadata": {},
   "outputs": [],
   "source": [
    "cat_dog_img = Image.open(\"cat_dog.jpg\")\n",
    "cat_dog_img_array = np.array(cat_dog_img)\n",
    "Image.fromarray(cat_dog_img_array)"
   ]
  },
  {
   "cell_type": "code",
   "execution_count": null,
   "metadata": {},
   "outputs": [],
   "source": [
    "result = model.predict(cat_dog_img_array)\n",
    "img = Image.fromarray(result[0].plot())\n",
    "img.save(\"cat_dog_result.jpg\")\n",
    "img"
   ]
  },
  {
   "cell_type": "code",
   "execution_count": null,
   "metadata": {},
   "outputs": [],
   "source": [
    "# download dataset metadata\n",
    "!bash setup.sh"
   ]
  },
  {
   "cell_type": "code",
   "execution_count": null,
   "metadata": {},
   "outputs": [],
   "source": [
    "def create_data_labels(\n",
    "    source_file: str, set_name: str = \"training\", count: int = 10000\n",
    "):\n",
    "    food_code = \"/m/02wbm\"  # found in oivd6-class-descriptions.csv\n",
    "    if not os.path.exists(\"datasets/\"):\n",
    "        os.mkdir(\"datasets/\")\n",
    "    if not os.path.exists(f\"datasets/{set_name}_images/\"):\n",
    "        os.mkdir(f\"datasets/{set_name}_images/\")\n",
    "\n",
    "    # use csvreader instead pd.read_csv to avoid memory abuse and crash :(\n",
    "    # also speeds up reading\n",
    "    records = []\n",
    "    with open(source_file, \"r\") as file:\n",
    "        reader = csv.reader(file)\n",
    "        for record in reader:\n",
    "            if record[2] == food_code:\n",
    "                records.append(\n",
    "                    (\n",
    "                        record[0],\n",
    "                        float(record[4]),\n",
    "                        float(record[5]),\n",
    "                        float(record[6]),\n",
    "                        float(record[7]),\n",
    "                    )\n",
    "                )\n",
    "\n",
    "    annotations = pd.DataFrame(\n",
    "        records, columns=[\"ImageID\", \"XMin\", \"XMax\", \"YMin\", \"YMax\"]\n",
    "    )\n",
    "\n",
    "    image_id_df = annotations[\"ImageID\"].unique()[:count]\n",
    "    image_box_data = annotations[annotations[\"ImageID\"].isin(image_id_df)]\n",
    "\n",
    "    for image_id in image_id_df:\n",
    "        fname = f\"datasets/{set_name}_images/\" + image_id + \".txt\"\n",
    "        with open(fname, \"w\") as file:\n",
    "            for row in image_box_data[image_box_data[\"ImageID\"] == image_id].iterrows():\n",
    "                row = row[1]\n",
    "                xmin = row[\"XMin\"]\n",
    "                xmax = row[\"XMax\"]\n",
    "                ymin = row[\"YMin\"]\n",
    "                ymax = row[\"YMax\"]\n",
    "                x_center = (xmin + xmax) / 2\n",
    "                y_center = (ymin + ymax) / 2\n",
    "                width = xmax - xmin\n",
    "                height = ymax - ymin\n",
    "                file.write(f\"0 {x_center} {y_center} {width} {height}\\n\")\n",
    "\n",
    "    if not os.path.exists(\"metadata/\"):\n",
    "        os.mkdir(\"metadata/\")\n",
    "    download_fname = f\"metadata/{set_name}_download.txt\"\n",
    "    with open(download_fname, \"w\") as file:\n",
    "        for image_id in image_id_df:\n",
    "            file.write(f\"{set_name}/\" + image_id + \"\\n\")\n",
    "\n",
    "\n",
    "create_data_labels(\n",
    "    \"metadata/oidv6-train-annotations-bbox.csv\", set_name=\"train\", count=5000\n",
    ")\n",
    "create_data_labels(\n",
    "    \"metadata/validation-annotations-bbox.csv\", set_name=\"validation\", count=500\n",
    ")\n",
    "create_data_labels(\"metadata/test-annotations-bbox.csv\", set_name=\"test\", count=5000)"
   ]
  },
  {
   "cell_type": "code",
   "execution_count": null,
   "metadata": {},
   "outputs": [],
   "source": [
    "!python downloader.py metadata/train_download.txt --download_folder=datasets/train_images --num_processes=10"
   ]
  },
  {
   "cell_type": "code",
   "execution_count": null,
   "metadata": {},
   "outputs": [],
   "source": [
    "!python downloader.py metadata/validation_download.txt --download_folder=datasets/validation_images --num_processes=10"
   ]
  },
  {
   "cell_type": "code",
   "execution_count": null,
   "metadata": {},
   "outputs": [],
   "source": [
    "!python downloader.py metadata/test_download.txt --download_folder=datasets/test_images --num_processes=10"
   ]
  },
  {
   "cell_type": "code",
   "execution_count": null,
   "metadata": {},
   "outputs": [],
   "source": [
    "result = model.train(\n",
    "    data=\"food.yaml\",\n",
    "    epochs=5,\n",
    "    batch=6,\n",
    "    pretrained=True,\n",
    "    iou=0.5,\n",
    "    visualize=False,\n",
    "    patience=0,\n",
    ")"
   ]
  },
  {
   "cell_type": "code",
   "execution_count": null,
   "metadata": {},
   "outputs": [],
   "source": [
    "# model = YOLO(\"runs/detect/train/weights/best.pt\").to(device)\n",
    "\n",
    "files = os.listdir(\"datasets/test_images/\")\n",
    "img_files = [file for file in files if file.endswith(\".jpg\")]\n",
    "img_files.sort()\n",
    "\n",
    "size = 5\n",
    "offset = 20\n",
    "\n",
    "results = []\n",
    "prediction_plots = []\n",
    "for i, img in enumerate(img_files[offset : offset + size**2]):\n",
    "    # print(i)\n",
    "    image = Image.open(\"datasets/test_images/\" + img)\n",
    "    img_array = np.array(image)\n",
    "    result = model.predict(img_array, visualize=False, verbose=False)\n",
    "    prediction_plots.append(result[0].plot())\n",
    "    results.append(result)"
   ]
  },
  {
   "cell_type": "code",
   "execution_count": null,
   "metadata": {},
   "outputs": [],
   "source": [
    "fig, ax = plt.subplots(size, size, figsize=(5 * size, 5 * size))\n",
    "for i in range(size):\n",
    "    for j in range(size):\n",
    "        ax[i][j].imshow(prediction_plots[i * size + j])\n",
    "\n",
    "fig.savefig(\"predictions.png\")"
   ]
  },
  {
   "cell_type": "code",
   "execution_count": null,
   "metadata": {},
   "outputs": [],
   "source": [
    "from PIL import ImageFilter\n",
    "\n",
    "\n",
    "def blur_result(result):\n",
    "    img = Image.fromarray(result[0].orig_img)\n",
    "    xyxy = result[0].boxes.xyxy.to(int).tolist()\n",
    "    for x1, y1, x2, y2 in xyxy:\n",
    "        # blur only the part within the bounding box\n",
    "        crop_img = img.crop((x1, y1, x2, y2))\n",
    "        crop_img = crop_img.filter(ImageFilter.GaussianBlur(radius=20))\n",
    "        img.paste(crop_img, (x1, y1, x2, y2))\n",
    "    return img"
   ]
  },
  {
   "cell_type": "code",
   "execution_count": null,
   "metadata": {},
   "outputs": [],
   "source": [
    "imgs = []\n",
    "for result in results:\n",
    "    imgs.append(blur_result(result))\n",
    "\n",
    "fig, ax = plt.subplots(size, size, figsize=(5 * size, 5 * size))\n",
    "for i in range(size):\n",
    "    for j in range(size):\n",
    "        ax[i][j].imshow(imgs[i * size + j])\n",
    "\n",
    "fig.savefig(\"blurred.png\")"
   ]
  }
 ],
 "metadata": {
  "kernelspec": {
   "display_name": "mro",
   "language": "python",
   "name": "python3"
  },
  "language_info": {
   "codemirror_mode": {
    "name": "ipython",
    "version": 3
   },
   "file_extension": ".py",
   "mimetype": "text/x-python",
   "name": "python",
   "nbconvert_exporter": "python",
   "pygments_lexer": "ipython3",
   "version": "3.10.13"
  }
 },
 "nbformat": 4,
 "nbformat_minor": 2
}
