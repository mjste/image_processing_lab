{
 "cells": [
  {
   "cell_type": "code",
   "execution_count": 2,
   "metadata": {},
   "outputs": [],
   "source": [
    "from ultralytics import YOLO\n",
    "import pandas as pd\n",
    "import json\n",
    "import csv\n",
    "\n",
    "model = YOLO('yolov8n.pt')\n",
    "# train_boxes = pd.read_csv('oidv6-train-annotations-bbox.csv')\n"
   ]
  },
  {
   "cell_type": "code",
   "execution_count": 3,
   "metadata": {},
   "outputs": [],
   "source": [
    "def get_food_labels():\n",
    "    food_label = '/m/02wbm'\n",
    "    with open('bbox_labels_600_hierarchy.json', 'r') as file:\n",
    "        bbox_labels = json.load(file)\n",
    "\n",
    "    def find_all_food(food_dict, add_all=False):\n",
    "        labels = []\n",
    "        if food_dict['LabelName'] == food_label or add_all:\n",
    "            add_all = True\n",
    "            labels.append(food_dict['LabelName'])\n",
    "\n",
    "        if 'Subcategory' in food_dict:\n",
    "            for subcategory in food_dict['Subcategory']:\n",
    "                labels.extend(find_all_food(subcategory, add_all))\n",
    "\n",
    "        return labels\n",
    "\n",
    "    return find_all_food(bbox_labels)\n",
    "\n",
    "food_labels = get_food_labels()\n"
   ]
  },
  {
   "cell_type": "code",
   "execution_count": 4,
   "metadata": {},
   "outputs": [],
   "source": [
    "image_train_dataset_metadata = []\n",
    "with open('oidv6-train-annotations-bbox.csv', 'r') as f:\n",
    "    reader = csv.reader(f)\n",
    "    for record in reader:\n",
    "        label = record[2]\n",
    "        if label in food_labels:\n",
    "            image_train_dataset_metadata.append((record[0], label, record[4], record[5], record[6], record[7]))"
   ]
  },
  {
   "cell_type": "code",
   "execution_count": null,
   "metadata": {},
   "outputs": [],
   "source": []
  }
 ],
 "metadata": {
  "kernelspec": {
   "display_name": "mro",
   "language": "python",
   "name": "python3"
  },
  "language_info": {
   "codemirror_mode": {
    "name": "ipython",
    "version": 3
   },
   "file_extension": ".py",
   "mimetype": "text/x-python",
   "name": "python",
   "nbconvert_exporter": "python",
   "pygments_lexer": "ipython3",
   "version": "3.10.13"
  }
 },
 "nbformat": 4,
 "nbformat_minor": 2
}
